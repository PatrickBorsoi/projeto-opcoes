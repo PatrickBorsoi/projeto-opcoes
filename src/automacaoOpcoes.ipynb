{
 "cells": [
  {
   "cell_type": "code",
   "execution_count": 1,
   "id": "93cf5cda",
   "metadata": {},
   "outputs": [],
   "source": [
    "from selenium import webdriver\n",
    "from selenium.webdriver.common.by import By\n",
    "from selenium.webdriver.support.ui import Select\n",
    "import time\n",
    "import pandas as pd\n"
   ]
  },
  {
   "cell_type": "code",
   "execution_count": 19,
   "id": "cfac2c71",
   "metadata": {},
   "outputs": [],
   "source": [
    "nav = webdriver.Chrome()\n",
    "nav.get('https://opcoes.net.br/opcoes/bovespa')\n",
    "ativo = Select(nav.find_element(By.NAME,'IdAcao'))"
   ]
  },
  {
   "cell_type": "code",
   "execution_count": 15,
   "id": "f2f185fc",
   "metadata": {},
   "outputs": [
    {
     "name": "stdout",
     "output_type": "stream",
     "text": [
      "None\n"
     ]
    }
   ],
   "source": [
    "a = ativo.select_by_index()\n",
    "print(a)"
   ]
  },
  {
   "cell_type": "code",
   "execution_count": 22,
   "id": "9509d46d",
   "metadata": {},
   "outputs": [
    {
     "name": "stdout",
     "output_type": "stream",
     "text": [
      "1\n",
      "2\n",
      "3\n",
      "4\n",
      "5\n",
      "6\n",
      "7\n",
      "8\n",
      "9\n",
      "10\n",
      "11\n",
      "12\n",
      "13\n",
      "14\n",
      "15\n",
      "16\n",
      "17\n",
      "18\n",
      "19\n",
      "20\n",
      "21\n",
      "22\n",
      "23\n",
      "24\n",
      "25\n",
      "26\n",
      "27\n",
      "28\n",
      "29\n",
      "30\n",
      "31\n",
      "32\n",
      "33\n",
      "34\n",
      "35\n",
      "36\n",
      "37\n",
      "38\n",
      "39\n",
      "40\n",
      "41\n",
      "42\n",
      "43\n",
      "44\n",
      "45\n",
      "46\n",
      "47\n",
      "48\n",
      "49\n",
      "50\n",
      "51\n",
      "52\n",
      "53\n",
      "54\n",
      "55\n",
      "56\n",
      "57\n",
      "58\n",
      "59\n",
      "60\n",
      "61\n",
      "62\n"
     ]
    }
   ],
   "source": [
    "# 64 ativos\n",
    "contador = 1\n",
    "# pego a quantidade de ativos e baixo o excel\n",
    "for contador in range(contador + 0,3):\n",
    "    time.sleep(0.5)\n",
    "    ativo.select_by_index(contador)\n",
    "    print(contador)\n",
    "    time.sleep(0.5)\n",
    "    # nav.find_element(By.XPATH,'//*[@id=\"tblListaOpc_wrapper\"]/div[2]/button[2]').click()\n",
    "    "
   ]
  },
  {
   "cell_type": "code",
   "execution_count": 36,
   "id": "172b2e7c",
   "metadata": {},
   "outputs": [],
   "source": [
    "#depois de baixar todos, jogar eles para uma pasta depois de jogar para pasta ler cada arquivo q esta la e consolidar para jogar no banco de dados\n",
    "import os\n",
    "import shutil\n",
    "\n",
    "def mover_arquivos(origem, destino, padrao_inicio):\n",
    "    arquivos = [arquivo for arquivo in os.listdir(origem) if arquivo.startswith(padrao_inicio)]\n",
    "    for arquivo in arquivos:\n",
    "        caminho_arquivo = os.path.join(origem, arquivo)\n",
    "        shutil.move(caminho_arquivo, destino)\n",
    "\n",
    "# Exemplo de uso:\n",
    "diretorio_downloads = os.path.expanduser(\"~/Downloads\")\n",
    "destino = \"C:/Users/Patrick/Desktop/Arquivos_opcoes\"\n",
    "padrao_inicio = \"Opções \"\n",
    "\n",
    "mover_arquivos(diretorio_downloads, destino, padrao_inicio)"
   ]
  },
  {
   "cell_type": "code",
   "execution_count": 25,
   "id": "47dc7c4e",
   "metadata": {},
   "outputs": [
    {
     "ename": "FileNotFoundError",
     "evalue": "[WinError 3] O sistema não pode encontrar o caminho especificado: 'C:/Users/Patrick/Desktop/Arquivos_opcoes'",
     "output_type": "error",
     "traceback": [
      "\u001b[1;31m---------------------------------------------------------------------------\u001b[0m",
      "\u001b[1;31mFileNotFoundError\u001b[0m                         Traceback (most recent call last)",
      "Cell \u001b[1;32mIn[25], line 10\u001b[0m\n\u001b[0;32m      7\u001b[0m dfs \u001b[38;5;241m=\u001b[39m []\n\u001b[0;32m      9\u001b[0m \u001b[38;5;66;03m# Percorre todos os arquivos na pasta\u001b[39;00m\n\u001b[1;32m---> 10\u001b[0m \u001b[38;5;28;01mfor\u001b[39;00m arquivo \u001b[38;5;129;01min\u001b[39;00m \u001b[43mos\u001b[49m\u001b[38;5;241;43m.\u001b[39;49m\u001b[43mlistdir\u001b[49m\u001b[43m(\u001b[49m\u001b[43mdiretorio\u001b[49m\u001b[43m)\u001b[49m:\n\u001b[0;32m     11\u001b[0m     \u001b[38;5;28;01mif\u001b[39;00m arquivo\u001b[38;5;241m.\u001b[39mendswith(\u001b[38;5;124m'\u001b[39m\u001b[38;5;124m.xlsx\u001b[39m\u001b[38;5;124m'\u001b[39m):\n\u001b[0;32m     12\u001b[0m         \u001b[38;5;66;03m# Leitura do arquivo XLSX e armazenamento do DataFrame\u001b[39;00m\n\u001b[0;32m     13\u001b[0m         caminho_arquivo \u001b[38;5;241m=\u001b[39m os\u001b[38;5;241m.\u001b[39mpath\u001b[38;5;241m.\u001b[39mjoin(diretorio, arquivo)\n",
      "\u001b[1;31mFileNotFoundError\u001b[0m: [WinError 3] O sistema não pode encontrar o caminho especificado: 'C:/Users/Patrick/Desktop/Arquivos_opcoes'"
     ]
    }
   ],
   "source": [
    "import os\n",
    "\n",
    "# Especifique o diretório onde estão os arquivos XLSX\n",
    "diretorio = 'C:/Users/Patrick/Desktop/Arquivos_opcoes'\n",
    "\n",
    "# Lista para armazenar todos os DataFrames\n",
    "dfs = []\n",
    "\n",
    "# Percorre todos os arquivos na pasta\n",
    "for arquivo in os.listdir(diretorio):\n",
    "    if arquivo.endswith('.xlsx'):\n",
    "        # Leitura do arquivo XLSX e armazenamento do DataFrame\n",
    "        caminho_arquivo = os.path.join(diretorio, arquivo)\n",
    "        #usando skiprow pois, a primeira linha vem mesclada\n",
    "        df = pd.read_excel(caminho_arquivo, skiprows=1)\n",
    "        dfs.append(df)\n",
    "\n",
    "# Concatenando todos os DataFrames em um único DataFrame\n",
    "df_final = pd.concat(dfs, ignore_index=True)\n",
    "\n",
    "# Salvar o DataFrame final em um arquivo XLSX\n",
    "# caminho_saida = f'{diretorio}/base_concatenada/arquivo_total.xlsx'\n",
    "# df_final.to_excel(caminho_saida, index=False)"
   ]
  },
  {
   "cell_type": "code",
   "execution_count": 23,
   "id": "c3df4e3c",
   "metadata": {},
   "outputs": [
    {
     "ename": "NameError",
     "evalue": "name 'df_final' is not defined",
     "output_type": "error",
     "traceback": [
      "\u001b[1;31m---------------------------------------------------------------------------\u001b[0m",
      "\u001b[1;31mNameError\u001b[0m                                 Traceback (most recent call last)",
      "Cell \u001b[1;32mIn[23], line 1\u001b[0m\n\u001b[1;32m----> 1\u001b[0m \u001b[43mdf_final\u001b[49m\n",
      "\u001b[1;31mNameError\u001b[0m: name 'df_final' is not defined"
     ]
    }
   ],
   "source": [
    "df_final"
   ]
  },
  {
   "cell_type": "code",
   "execution_count": null,
   "id": "4ee77ae0",
   "metadata": {},
   "outputs": [],
   "source": []
  }
 ],
 "metadata": {
  "kernelspec": {
   "display_name": "Python 3 (ipykernel)",
   "language": "python",
   "name": "python3"
  },
  "language_info": {
   "codemirror_mode": {
    "name": "ipython",
    "version": 3
   },
   "file_extension": ".py",
   "mimetype": "text/x-python",
   "name": "python",
   "nbconvert_exporter": "python",
   "pygments_lexer": "ipython3",
   "version": "3.12.1"
  }
 },
 "nbformat": 4,
 "nbformat_minor": 5
}
